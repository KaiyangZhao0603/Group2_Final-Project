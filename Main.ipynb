{
 "cells": [
  {
   "cell_type": "code",
   "execution_count": 1,
   "metadata": {},
   "outputs": [],
   "source": [
    "# import kagglehub\n",
    "\n",
    "# # Download latest version\n",
    "# path = kagglehub.model_download(\"google/yamnet/tensorFlow2/yamnet\")\n",
    "\n",
    "# print(\"Path to model files:\", path)"
   ]
  },
  {
   "cell_type": "code",
   "execution_count": 2,
   "metadata": {},
   "outputs": [
    {
     "name": "stdout",
     "output_type": "stream",
     "text": [
      "Metal device set to: Apple M1\n",
      "\n",
      "systemMemory: 16.00 GB\n",
      "maxCacheSize: 5.33 GB\n",
      "\n"
     ]
    },
    {
     "name": "stderr",
     "output_type": "stream",
     "text": [
      "2024-04-27 14:18:30.762906: I tensorflow/core/common_runtime/pluggable_device/pluggable_device_factory.cc:306] Could not identify NUMA node of platform GPU ID 0, defaulting to 0. Your kernel may not have been built with NUMA support.\n",
      "2024-04-27 14:18:30.763001: I tensorflow/core/common_runtime/pluggable_device/pluggable_device_factory.cc:272] Created TensorFlow device (/job:localhost/replica:0/task:0/device:GPU:0 with 0 MB memory) -> physical PluggableDevice (device: 0, name: METAL, pci bus id: <undefined>)\n"
     ]
    }
   ],
   "source": [
    "import utils as u\n",
    "import tensorflow_hub as hub\n",
    "\n",
    "yamnet = hub.load('/Users/zhaokaiyang/.cache/kagglehub/models/google/yamnet/tensorFlow2/yamnet/1')"
   ]
  },
  {
   "cell_type": "code",
   "execution_count": 6,
   "metadata": {},
   "outputs": [
    {
     "name": "stderr",
     "output_type": "stream",
     "text": [
      "2024-04-27 14:18:52.065859: W tensorflow/core/platform/profile_utils/cpu_utils.cc:128] Failed to get CPU frequency: 0 Hz\n",
      "2024-04-27 14:18:52.073811: I tensorflow/core/grappler/optimizers/custom_graph_optimizer_registry.cc:114] Plugin optimizer for device_type GPU is enabled.\n"
     ]
    }
   ],
   "source": [
    "# 指定你的音频文件夹路径\n",
    "folder_path = '/Users/zhaokaiyang/Downloads/PMEmo2019/chorus/'\n",
    "# 处理文件夹并获取 embeddings\n",
    "embeddings_dict = u.process_folder(folder_path, yamnet)"
   ]
  },
  {
   "cell_type": "code",
   "execution_count": 7,
   "metadata": {},
   "outputs": [
    {
     "name": "stdout",
     "output_type": "stream",
     "text": [
      "['752.mp3', '746.mp3', '791.mp3', '550.mp3', '236.mp3', '222.mp3', '544.mp3', '578.mp3', '587.mp3', '424.mp3', '342.mp3', '356.mp3', '418.mp3', '381.mp3', '395.mp3', '140.mp3', '626.mp3', '632.mp3', '96.mp3', '168.mp3', '829.mp3', '69.mp3', '197.mp3', '801.mp3', '815.mp3', '55.mp3', '7.mp3', '54.mp3', '814.mp3', '6.mp3', '40.mp3', '68.mp3', '828.mp3', '196.mp3', '97.mp3', '169.mp3', '83.mp3', '141.mp3', '627.mp3', '394.mp3', '419.mp3', '431.mp3', '425.mp3', '343.mp3', '592.mp3', '579.mp3', '551.mp3', '237.mp3', '974.mp3', '784.mp3', '948.mp3', '790.mp3', '747.mp3', '753.mp3', '745.mp3', '989.mp3', '751.mp3', '779.mp3', '786.mp3', '792.mp3', '962.mp3', '221.mp3', '235.mp3', '209.mp3', '584.mp3', '590.mp3', '433.mp3', '355.mp3', '341.mp3', '427.mp3', '396.mp3', '382.mp3', '157.mp3', '631.mp3', '625.mp3', '143.mp3', '95.mp3', '81.mp3', '180.mp3', '4.mp3', '816.mp3', '56.mp3', '42.mp3', '43.mp3', '803.mp3', '5.mp3', '57.mp3', '181.mp3', '80.mp3', '94.mp3', '624.mp3', '142.mp3', '156.mp3', '630.mp3', '383.mp3', '397.mp3', '368.mp3', '426.mp3', '432.mp3', '354.mp3', '591.mp3', '585.mp3', '234.mp3', '552.mp3', '546.mp3', '220.mp3', '793.mp3', '778.mp3', '750.mp3', '744.mp3', '740.mp3', '754.mp3', '967.mp3', '973.mp3', '783.mp3', '797.mp3', '224.mp3', '542.mp3', '230.mp3', '595.mp3', '350.mp3', '436.mp3', '393.mp3', '90.mp3', '608.mp3', '84.mp3', '634.mp3', '152.mp3', '146.mp3', '813.mp3', '1.mp3', '807.mp3', '47.mp3', '191.mp3', '185.mp3', '184.mp3', '46.mp3', '806.mp3', '52.mp3', '812.mp3', '147.mp3', '621.mp3', '635.mp3', '153.mp3', '85.mp3', '609.mp3', '91.mp3', '386.mp3', '392.mp3', '423.mp3', '351.mp3', '437.mp3', '379.mp3', '1000.mp3', '594.mp3', '580.mp3', '231.mp3', '225.mp3', '219.mp3', '796.mp3', '966.mp3', '755.mp3', '741.mp3', '999.mp3', '769.mp3', '757.mp3', '743.mp3', '970.mp3', '964.mp3', '794.mp3', '780.mp3', '958.mp3', '569.mp3', '233.mp3', '555.mp3', '541.mp3', '227.mp3', '596.mp3', '582.mp3', '409.mp3', '347.mp3', '421.mp3', '435.mp3', '353.mp3', '384.mp3', '87.mp3', '179.mp3', '93.mp3', '623.mp3', '145.mp3', '151.mp3', '637.mp3', '804.mp3', '44.mp3', '810.mp3', '50.mp3', '78.mp3', '186.mp3', '192.mp3', '79.mp3', '839.mp3', '187.mp3', '51.mp3', '150.mp3', '636.mp3', '622.mp3', '144.mp3', '92.mp3', '86.mp3', '391.mp3', '385.mp3', '434.mp3', '352.mp3', '420.mp3', '408.mp3', '583.mp3', '597.mp3', '540.mp3', '226.mp3', '232.mp3', '554.mp3', '568.mp3', '959.mp3', '965.mp3', '971.mp3', '742.mp3', '731.mp3', '719.mp3', '916.mp3', '241.mp3', '269.mp3', '296.mp3', '282.mp3', '321.mp3', '447.mp3', '309.mp3', '484.mp3', '490.mp3', '645.mp3', '123.mp3', '137.mp3', '651.mp3', '889.mp3', '679.mp3', '686.mp3', '692.mp3', '862.mp3', '876.mp3', '37.mp3', '23.mp3', '863.mp3', '693.mp3', '687.mp3', '678.mp3', '136.mp3', '888.mp3', '650.mp3', '644.mp3', '491.mp3', '485.mp3', '308.mp3', '452.mp3', '334.mp3', '320.mp3', '446.mp3', '283.mp3', '297.mp3', '526.mp3', '532.mp3', '903.mp3', '917.mp3', '718.mp3', '730.mp3', '726.mp3', '732.mp3', '929.mp3', '915.mp3', '242.mp3', '524.mp3', '530.mp3', '518.mp3', '295.mp3', '336.mp3', '450.mp3', '444.mp3', '478.mp3', '493.mp3', '487.mp3', '652.mp3', '134.mp3', '120.mp3', '646.mp3', '108.mp3', '685.mp3', '35.mp3', '861.mp3', '21.mp3', '20.mp3', '860.mp3', '34.mp3', '684.mp3', '848.mp3', '109.mp3', '647.mp3', '653.mp3', '135.mp3', '486.mp3', '492.mp3', '479.mp3', '445.mp3', '323.mp3', '337.mp3', '451.mp3', '294.mp3', '280.mp3', '519.mp3', '531.mp3', '257.mp3', '525.mp3', '900.mp3', '928.mp3', '733.mp3', '727.mp3', '904.mp3', '938.mp3', '521.mp3', '253.mp3', '535.mp3', '284.mp3', '469.mp3', '455.mp3', '333.mp3', '327.mp3', '441.mp3', '496.mp3', '482.mp3', '119.mp3', '657.mp3', '643.mp3', '870.mp3', '30.mp3', '864.mp3', '694.mp3', '858.mp3', '18.mp3', '681.mp3', '19.mp3', '859.mp3', '25.mp3', '865.mp3', '31.mp3', '871.mp3', '124.mp3', '656.mp3', '118.mp3', '483.mp3', '326.mp3', '440.mp3', '454.mp3', '332.mp3', '468.mp3', '291.mp3', '285.mp3', '252.mp3', '534.mp3', '520.mp3', '508.mp3', '939.mp3', '911.mp3', '905.mp3', '736.mp3', '722.mp3', '708.mp3', '734.mp3', '720.mp3', '913.mp3', '907.mp3', '278.mp3', '536.mp3', '244.mp3', '522.mp3', '293.mp3', '287.mp3', '318.mp3', '442.mp3', '324.mp3', '456.mp3', '481.mp3', '495.mp3', '668.mp3', '126.mp3', '654.mp3', '132.mp3', '33.mp3', '683.mp3', '697.mp3', '682.mp3', '32.mp3', '26.mp3', '866.mp3', '133.mp3', '127.mp3', '494.mp3', '480.mp3', '331.mp3', '457.mp3', '443.mp3', '325.mp3', '319.mp3', '292.mp3', '523.mp3', '537.mp3', '251.mp3', '279.mp3', '906.mp3', '710.mp3', '704.mp3', '738.mp3', '937.mp3', '512.mp3', '506.mp3', '260.mp3', '300.mp3', '466.mp3', '472.mp3', '314.mp3', '499.mp3', '102.mp3', '116.mp3', '670.mp3', '880.mp3', '894.mp3', '857.mp3', '17.mp3', '16.mp3', '842.mp3', '895.mp3', '881.mp3', '659.mp3', '117.mp3', '671.mp3', '665.mp3', '103.mp3', '329.mp3', '315.mp3', '301.mp3', '249.mp3', '507.mp3', '275.mp3', '922.mp3', '936.mp3', '739.mp3', '705.mp3', '711.mp3', '707.mp3', '713.mp3', '908.mp3', '934.mp3', '263.mp3', '505.mp3', '511.mp3', '277.mp3', '539.mp3', '317.mp3', '471.mp3', '465.mp3', '303.mp3', '459.mp3', '673.mp3', '115.mp3', '101.mp3', '897.mp3', '883.mp3', '868.mp3', '28.mp3', '854.mp3', '14.mp3', '698.mp3', '699.mp3', '15.mp3', '855.mp3', '29.mp3', '869.mp3', '882.mp3', '896.mp3', '128.mp3', '100.mp3', '666.mp3', '672.mp3', '114.mp3', '458.mp3', '464.mp3', '302.mp3', '316.mp3', '470.mp3', '510.mp3', '276.mp3', '504.mp3', '935.mp3', '921.mp3', '909.mp3', '706.mp3', '716.mp3', '925.mp3', '931.mp3', '919.mp3', '500.mp3', '514.mp3', '299.mp3', '448.mp3', '312.mp3', '306.mp3', '460.mp3', '892.mp3', '886.mp3', '138.mp3', '110.mp3', '676.mp3', '662.mp3', '104.mp3', '851.mp3', '11.mp3', '689.mp3', '879.mp3', '39.mp3', '38.mp3', '844.mp3', '688.mp3', '10.mp3', '850.mp3', '105.mp3', '677.mp3', '139.mp3', '307.mp3', '461.mp3', '313.mp3', '449.mp3', '298.mp3', '273.mp3', '515.mp3', '501.mp3', '267.mp3', '918.mp3', '924.mp3', '717.mp3', '703.mp3', '729.mp3', '715.mp3', '932.mp3', '926.mp3', '517.mp3', '265.mp3', '503.mp3', '339.mp3', '463.mp3', '305.mp3', '311.mp3', '477.mp3', '488.mp3', '885.mp3', '649.mp3', '107.mp3', '661.mp3', '675.mp3', '113.mp3', '846.mp3', '852.mp3', '12.mp3', '13.mp3', '853.mp3', '847.mp3', '674.mp3', '106.mp3', '660.mp3', '890.mp3', '648.mp3', '884.mp3', '489.mp3', '310.mp3', '476.mp3', '462.mp3', '304.mp3', '338.mp3', '264.mp3', '516.mp3', '258.mp3', '927.mp3', '933.mp3', '700.mp3', '728.mp3', '773.mp3', '767.mp3', '997.mp3', '983.mp3', '968.mp3', '798.mp3', '940.mp3', '571.mp3', '217.mp3', '203.mp3', '565.mp3', '405.mp3', '411.mp3', '439.mp3', '388.mp3', '161.mp3', '607.mp3', '613.mp3', '175.mp3', '149.mp3', '808.mp3', '48.mp3', '820.mp3', '60.mp3', '834.mp3', '74.mp3', '75.mp3', '835.mp3', '61.mp3', '821.mp3', '49.mp3', '809.mp3', '148.mp3', '612.mp3', '174.mp3', '160.mp3', '606.mp3', '389.mp3', '438.mp3', '376.mp3', '410.mp3', '404.mp3', '362.mp3', '558.mp3', '202.mp3', '564.mp3', '570.mp3', '216.mp3', '941.mp3', '799.mp3', '969.mp3', '996.mp3', '772.mp3', '770.mp3', '980.mp3', '758.mp3', '943.mp3', '957.mp3', '566.mp3', '200.mp3', '572.mp3', '228.mp3', '599.mp3', '412.mp3', '360.mp3', '348.mp3', '176.mp3', '610.mp3', '88.mp3', '162.mp3', '638.mp3', '189.mp3', '837.mp3', '823.mp3', '63.mp3', '188.mp3', '76.mp3', '836.mp3', '639.mp3', '605.mp3', '177.mp3', '89.mp3', '611.mp3', '349.mp3', '361.mp3', '407.mp3', '413.mp3', '375.mp3', '598.mp3', '229.mp3', '215.mp3', '573.mp3', '567.mp3', '201.mp3', '759.mp3', '981.mp3', '771.mp3', '765.mp3', '985.mp3', '749.mp3', '761.mp3', '775.mp3', '946.mp3', '952.mp3', '239.mp3', '205.mp3', '563.mp3', '577.mp3', '211.mp3', '588.mp3', '359.mp3', '371.mp3', '417.mp3', '403.mp3', '629.mp3', '615.mp3', '167.mp3', '99.mp3', '601.mp3', '832.mp3', '72.mp3', '198.mp3', '66.mp3', '8.mp3', '9.mp3', '199.mp3', '67.mp3', '827.mp3', '73.mp3', '833.mp3', '166.mp3', '600.mp3', '98.mp3', '614.mp3', '172.mp3', '628.mp3', '402.mp3', '364.mp3', '370.mp3', '358.mp3', '589.mp3', '576.mp3', '210.mp3', '204.mp3', '562.mp3', '238.mp3', '953.mp3', '774.mp3', '760.mp3', '748.mp3', '984.mp3', '992.mp3', '776.mp3', '789.mp3', '951.mp3', '945.mp3', '979.mp3', '548.mp3', '212.mp3', '574.mp3', '560.mp3', '206.mp3', '428.mp3', '366.mp3', '414.mp3', '372.mp3', '399.mp3', '158.mp3', '602.mp3', '170.mp3', '616.mp3', '825.mp3', '65.mp3', '831.mp3', '71.mp3', '59.mp3', '58.mp3', '818.mp3', '70.mp3', '830.mp3', '64.mp3', '824.mp3', '171.mp3', '617.mp3', '603.mp3', '165.mp3', '159.mp3', '398.mp3', '415.mp3', '373.mp3', '367.mp3', '401.mp3', '429.mp3', '561.mp3', '207.mp3', '213.mp3', '575.mp3', '549.mp3', '978.mp3', '950.mp3', '788.mp3', '763.mp3', '777.mp3', '993.mp3']\n"
     ]
    }
   ],
   "source": [
    "# 打印所有键\n",
    "print(list(embeddings_dict.keys()))"
   ]
  },
  {
   "cell_type": "code",
   "execution_count": 8,
   "metadata": {},
   "outputs": [],
   "source": [
    "# 创建一个新字典，其键是转换后的格式\n",
    "new_embeddings_dict = {}\n",
    "for key in embeddings_dict.keys():\n",
    "    new_key = key[:-4] + \".0\"  # 移除 '.mp3' 并添加 '.0'\n",
    "    new_embeddings_dict[new_key] = embeddings_dict[key]\n",
    "\n",
    "embeddings_dict = new_embeddings_dict\n"
   ]
  },
  {
   "cell_type": "code",
   "execution_count": 9,
   "metadata": {},
   "outputs": [
    {
     "name": "stdout",
     "output_type": "stream",
     "text": [
      "['752.0', '746.0', '791.0', '550.0', '236.0', '222.0', '544.0', '578.0', '587.0', '424.0', '342.0', '356.0', '418.0', '381.0', '395.0', '140.0', '626.0', '632.0', '96.0', '168.0', '829.0', '69.0', '197.0', '801.0', '815.0', '55.0', '7.0', '54.0', '814.0', '6.0', '40.0', '68.0', '828.0', '196.0', '97.0', '169.0', '83.0', '141.0', '627.0', '394.0', '419.0', '431.0', '425.0', '343.0', '592.0', '579.0', '551.0', '237.0', '974.0', '784.0', '948.0', '790.0', '747.0', '753.0', '745.0', '989.0', '751.0', '779.0', '786.0', '792.0', '962.0', '221.0', '235.0', '209.0', '584.0', '590.0', '433.0', '355.0', '341.0', '427.0', '396.0', '382.0', '157.0', '631.0', '625.0', '143.0', '95.0', '81.0', '180.0', '4.0', '816.0', '56.0', '42.0', '43.0', '803.0', '5.0', '57.0', '181.0', '80.0', '94.0', '624.0', '142.0', '156.0', '630.0', '383.0', '397.0', '368.0', '426.0', '432.0', '354.0', '591.0', '585.0', '234.0', '552.0', '546.0', '220.0', '793.0', '778.0', '750.0', '744.0', '740.0', '754.0', '967.0', '973.0', '783.0', '797.0', '224.0', '542.0', '230.0', '595.0', '350.0', '436.0', '393.0', '90.0', '608.0', '84.0', '634.0', '152.0', '146.0', '813.0', '1.0', '807.0', '47.0', '191.0', '185.0', '184.0', '46.0', '806.0', '52.0', '812.0', '147.0', '621.0', '635.0', '153.0', '85.0', '609.0', '91.0', '386.0', '392.0', '423.0', '351.0', '437.0', '379.0', '1000.0', '594.0', '580.0', '231.0', '225.0', '219.0', '796.0', '966.0', '755.0', '741.0', '999.0', '769.0', '757.0', '743.0', '970.0', '964.0', '794.0', '780.0', '958.0', '569.0', '233.0', '555.0', '541.0', '227.0', '596.0', '582.0', '409.0', '347.0', '421.0', '435.0', '353.0', '384.0', '87.0', '179.0', '93.0', '623.0', '145.0', '151.0', '637.0', '804.0', '44.0', '810.0', '50.0', '78.0', '186.0', '192.0', '79.0', '839.0', '187.0', '51.0', '150.0', '636.0', '622.0', '144.0', '92.0', '86.0', '391.0', '385.0', '434.0', '352.0', '420.0', '408.0', '583.0', '597.0', '540.0', '226.0', '232.0', '554.0', '568.0', '959.0', '965.0', '971.0', '742.0', '731.0', '719.0', '916.0', '241.0', '269.0', '296.0', '282.0', '321.0', '447.0', '309.0', '484.0', '490.0', '645.0', '123.0', '137.0', '651.0', '889.0', '679.0', '686.0', '692.0', '862.0', '876.0', '37.0', '23.0', '863.0', '693.0', '687.0', '678.0', '136.0', '888.0', '650.0', '644.0', '491.0', '485.0', '308.0', '452.0', '334.0', '320.0', '446.0', '283.0', '297.0', '526.0', '532.0', '903.0', '917.0', '718.0', '730.0', '726.0', '732.0', '929.0', '915.0', '242.0', '524.0', '530.0', '518.0', '295.0', '336.0', '450.0', '444.0', '478.0', '493.0', '487.0', '652.0', '134.0', '120.0', '646.0', '108.0', '685.0', '35.0', '861.0', '21.0', '20.0', '860.0', '34.0', '684.0', '848.0', '109.0', '647.0', '653.0', '135.0', '486.0', '492.0', '479.0', '445.0', '323.0', '337.0', '451.0', '294.0', '280.0', '519.0', '531.0', '257.0', '525.0', '900.0', '928.0', '733.0', '727.0', '904.0', '938.0', '521.0', '253.0', '535.0', '284.0', '469.0', '455.0', '333.0', '327.0', '441.0', '496.0', '482.0', '119.0', '657.0', '643.0', '870.0', '30.0', '864.0', '694.0', '858.0', '18.0', '681.0', '19.0', '859.0', '25.0', '865.0', '31.0', '871.0', '124.0', '656.0', '118.0', '483.0', '326.0', '440.0', '454.0', '332.0', '468.0', '291.0', '285.0', '252.0', '534.0', '520.0', '508.0', '939.0', '911.0', '905.0', '736.0', '722.0', '708.0', '734.0', '720.0', '913.0', '907.0', '278.0', '536.0', '244.0', '522.0', '293.0', '287.0', '318.0', '442.0', '324.0', '456.0', '481.0', '495.0', '668.0', '126.0', '654.0', '132.0', '33.0', '683.0', '697.0', '682.0', '32.0', '26.0', '866.0', '133.0', '127.0', '494.0', '480.0', '331.0', '457.0', '443.0', '325.0', '319.0', '292.0', '523.0', '537.0', '251.0', '279.0', '906.0', '710.0', '704.0', '738.0', '937.0', '512.0', '506.0', '260.0', '300.0', '466.0', '472.0', '314.0', '499.0', '102.0', '116.0', '670.0', '880.0', '894.0', '857.0', '17.0', '16.0', '842.0', '895.0', '881.0', '659.0', '117.0', '671.0', '665.0', '103.0', '329.0', '315.0', '301.0', '249.0', '507.0', '275.0', '922.0', '936.0', '739.0', '705.0', '711.0', '707.0', '713.0', '908.0', '934.0', '263.0', '505.0', '511.0', '277.0', '539.0', '317.0', '471.0', '465.0', '303.0', '459.0', '673.0', '115.0', '101.0', '897.0', '883.0', '868.0', '28.0', '854.0', '14.0', '698.0', '699.0', '15.0', '855.0', '29.0', '869.0', '882.0', '896.0', '128.0', '100.0', '666.0', '672.0', '114.0', '458.0', '464.0', '302.0', '316.0', '470.0', '510.0', '276.0', '504.0', '935.0', '921.0', '909.0', '706.0', '716.0', '925.0', '931.0', '919.0', '500.0', '514.0', '299.0', '448.0', '312.0', '306.0', '460.0', '892.0', '886.0', '138.0', '110.0', '676.0', '662.0', '104.0', '851.0', '11.0', '689.0', '879.0', '39.0', '38.0', '844.0', '688.0', '10.0', '850.0', '105.0', '677.0', '139.0', '307.0', '461.0', '313.0', '449.0', '298.0', '273.0', '515.0', '501.0', '267.0', '918.0', '924.0', '717.0', '703.0', '729.0', '715.0', '932.0', '926.0', '517.0', '265.0', '503.0', '339.0', '463.0', '305.0', '311.0', '477.0', '488.0', '885.0', '649.0', '107.0', '661.0', '675.0', '113.0', '846.0', '852.0', '12.0', '13.0', '853.0', '847.0', '674.0', '106.0', '660.0', '890.0', '648.0', '884.0', '489.0', '310.0', '476.0', '462.0', '304.0', '338.0', '264.0', '516.0', '258.0', '927.0', '933.0', '700.0', '728.0', '773.0', '767.0', '997.0', '983.0', '968.0', '798.0', '940.0', '571.0', '217.0', '203.0', '565.0', '405.0', '411.0', '439.0', '388.0', '161.0', '607.0', '613.0', '175.0', '149.0', '808.0', '48.0', '820.0', '60.0', '834.0', '74.0', '75.0', '835.0', '61.0', '821.0', '49.0', '809.0', '148.0', '612.0', '174.0', '160.0', '606.0', '389.0', '438.0', '376.0', '410.0', '404.0', '362.0', '558.0', '202.0', '564.0', '570.0', '216.0', '941.0', '799.0', '969.0', '996.0', '772.0', '770.0', '980.0', '758.0', '943.0', '957.0', '566.0', '200.0', '572.0', '228.0', '599.0', '412.0', '360.0', '348.0', '176.0', '610.0', '88.0', '162.0', '638.0', '189.0', '837.0', '823.0', '63.0', '188.0', '76.0', '836.0', '639.0', '605.0', '177.0', '89.0', '611.0', '349.0', '361.0', '407.0', '413.0', '375.0', '598.0', '229.0', '215.0', '573.0', '567.0', '201.0', '759.0', '981.0', '771.0', '765.0', '985.0', '749.0', '761.0', '775.0', '946.0', '952.0', '239.0', '205.0', '563.0', '577.0', '211.0', '588.0', '359.0', '371.0', '417.0', '403.0', '629.0', '615.0', '167.0', '99.0', '601.0', '832.0', '72.0', '198.0', '66.0', '8.0', '9.0', '199.0', '67.0', '827.0', '73.0', '833.0', '166.0', '600.0', '98.0', '614.0', '172.0', '628.0', '402.0', '364.0', '370.0', '358.0', '589.0', '576.0', '210.0', '204.0', '562.0', '238.0', '953.0', '774.0', '760.0', '748.0', '984.0', '992.0', '776.0', '789.0', '951.0', '945.0', '979.0', '548.0', '212.0', '574.0', '560.0', '206.0', '428.0', '366.0', '414.0', '372.0', '399.0', '158.0', '602.0', '170.0', '616.0', '825.0', '65.0', '831.0', '71.0', '59.0', '58.0', '818.0', '70.0', '830.0', '64.0', '824.0', '171.0', '617.0', '603.0', '165.0', '159.0', '398.0', '415.0', '373.0', '367.0', '401.0', '429.0', '561.0', '207.0', '213.0', '575.0', '549.0', '978.0', '950.0', '788.0', '763.0', '777.0', '993.0']\n"
     ]
    }
   ],
   "source": [
    "# 打印所有键\n",
    "print(list(embeddings_dict.keys()))"
   ]
  },
  {
   "cell_type": "code",
   "execution_count": 10,
   "metadata": {},
   "outputs": [
    {
     "name": "stdout",
     "output_type": "stream",
     "text": [
      "Total samples loaded: 767\n",
      "Training set size: 613, Test set size: 154\n"
     ]
    }
   ],
   "source": [
    "import pandas as pd\n",
    "import numpy as np\n",
    "from sklearn.model_selection import train_test_split\n",
    "\n",
    "# 加载 Arousal & Valence 数据\n",
    "av_data = pd.read_csv('/Users/zhaokaiyang/Downloads/PMEmo2019/annotations/static_annotations.csv')  # 确保路径正确\n",
    "\n",
    "# 初始化数据列表\n",
    "X = []\n",
    "y = []\n",
    "\n",
    "# 遍历数据行\n",
    "for index, row in av_data.iterrows():\n",
    "    music_id = str(row['musicId'])  # 根据需要将 musicId 转换为字符串，假设 embeddings_dict 的键是字符串形式的 musicId\n",
    "    if music_id in embeddings_dict:\n",
    "        X.append(embeddings_dict[music_id])\n",
    "        y.append([row['Arousal(mean)'], row['Valence(mean)']])\n",
    "    else:\n",
    "        print(f\"Music ID {music_id} not found in embeddings_dict\")  # 输出未找到的音乐 ID\n",
    "\n",
    "# 将列表转换为 NumPy 数组\n",
    "X = np.array(X)\n",
    "y = np.array(y)\n",
    "\n",
    "print(f\"Total samples loaded: {len(X)}\")  # 输出加载的样本总数\n",
    "\n",
    "if len(X) > 0:\n",
    "    # 划分数据集\n",
    "    X_train, X_test, y_train, y_test = train_test_split(X, y, test_size=0.2, random_state=42)\n",
    "    print(f\"Training set size: {len(X_train)}, Test set size: {len(X_test)}\")\n",
    "else:\n",
    "    print(\"No data to split. Check your dataset and embeddings.\")\n"
   ]
  },
  {
   "cell_type": "code",
   "execution_count": 11,
   "metadata": {},
   "outputs": [
    {
     "name": "stdout",
     "output_type": "stream",
     "text": [
      "WARNING:tensorflow:AutoGraph could not transform <bound method TCN.call of <tcn.tcn.TCN object at 0x167fd56a0>> and will run it as-is.\n",
      "Please report this to the TensorFlow team. When filing the bug, set the verbosity to 10 (on Linux, `export AUTOGRAPH_VERBOSITY=10`) and attach the full output.\n",
      "Cause: module 'gast' has no attribute 'Constant'\n",
      "To silence this warning, decorate the function with @tf.autograph.experimental.do_not_convert\n",
      "WARNING: AutoGraph could not transform <bound method TCN.call of <tcn.tcn.TCN object at 0x167fd56a0>> and will run it as-is.\n",
      "Please report this to the TensorFlow team. When filing the bug, set the verbosity to 10 (on Linux, `export AUTOGRAPH_VERBOSITY=10`) and attach the full output.\n",
      "Cause: module 'gast' has no attribute 'Constant'\n",
      "To silence this warning, decorate the function with @tf.autograph.experimental.do_not_convert\n",
      "WARNING:tensorflow:AutoGraph could not transform <bound method ResidualBlock.call of <tcn.tcn.ResidualBlock object at 0x167fe5400>> and will run it as-is.\n",
      "Please report this to the TensorFlow team. When filing the bug, set the verbosity to 10 (on Linux, `export AUTOGRAPH_VERBOSITY=10`) and attach the full output.\n",
      "Cause: module 'gast' has no attribute 'Constant'\n",
      "To silence this warning, decorate the function with @tf.autograph.experimental.do_not_convert\n",
      "WARNING: AutoGraph could not transform <bound method ResidualBlock.call of <tcn.tcn.ResidualBlock object at 0x167fe5400>> and will run it as-is.\n",
      "Please report this to the TensorFlow team. When filing the bug, set the verbosity to 10 (on Linux, `export AUTOGRAPH_VERBOSITY=10`) and attach the full output.\n",
      "Cause: module 'gast' has no attribute 'Constant'\n",
      "To silence this warning, decorate the function with @tf.autograph.experimental.do_not_convert\n"
     ]
    }
   ],
   "source": [
    "from models import build_model\n",
    "\n",
    "# 根据输入数据的形状创建模型\n",
    "model = build_model(input_shape=(60, 1024))  # 确保这与你的 embeddings 形状匹配\n",
    "\n"
   ]
  },
  {
   "cell_type": "code",
   "execution_count": 12,
   "metadata": {},
   "outputs": [
    {
     "name": "stdout",
     "output_type": "stream",
     "text": [
      "Epoch 1/20\n",
      "WARNING:tensorflow:AutoGraph could not transform <function Model.make_train_function.<locals>.train_function at 0x1683a2820> and will run it as-is.\n",
      "Please report this to the TensorFlow team. When filing the bug, set the verbosity to 10 (on Linux, `export AUTOGRAPH_VERBOSITY=10`) and attach the full output.\n",
      "Cause: module 'gast' has no attribute 'Constant'\n",
      "To silence this warning, decorate the function with @tf.autograph.experimental.do_not_convert\n",
      "WARNING: AutoGraph could not transform <function Model.make_train_function.<locals>.train_function at 0x1683a2820> and will run it as-is.\n",
      "Please report this to the TensorFlow team. When filing the bug, set the verbosity to 10 (on Linux, `export AUTOGRAPH_VERBOSITY=10`) and attach the full output.\n",
      "Cause: module 'gast' has no attribute 'Constant'\n",
      "To silence this warning, decorate the function with @tf.autograph.experimental.do_not_convert\n"
     ]
    },
    {
     "name": "stderr",
     "output_type": "stream",
     "text": [
      "2024-04-27 14:22:52.446739: I tensorflow/core/grappler/optimizers/custom_graph_optimizer_registry.cc:114] Plugin optimizer for device_type GPU is enabled.\n"
     ]
    },
    {
     "name": "stdout",
     "output_type": "stream",
     "text": [
      "20/20 [==============================] - ETA: 0s - loss: 0.6370 - mae: 0.4765WARNING:tensorflow:AutoGraph could not transform <function Model.make_test_function.<locals>.test_function at 0x17e344dc0> and will run it as-is.\n",
      "Please report this to the TensorFlow team. When filing the bug, set the verbosity to 10 (on Linux, `export AUTOGRAPH_VERBOSITY=10`) and attach the full output.\n",
      "Cause: module 'gast' has no attribute 'Constant'\n",
      "To silence this warning, decorate the function with @tf.autograph.experimental.do_not_convert\n",
      "WARNING: AutoGraph could not transform <function Model.make_test_function.<locals>.test_function at 0x17e344dc0> and will run it as-is.\n",
      "Please report this to the TensorFlow team. When filing the bug, set the verbosity to 10 (on Linux, `export AUTOGRAPH_VERBOSITY=10`) and attach the full output.\n",
      "Cause: module 'gast' has no attribute 'Constant'\n",
      "To silence this warning, decorate the function with @tf.autograph.experimental.do_not_convert\n"
     ]
    },
    {
     "name": "stderr",
     "output_type": "stream",
     "text": [
      "2024-04-27 14:22:56.406311: I tensorflow/core/grappler/optimizers/custom_graph_optimizer_registry.cc:114] Plugin optimizer for device_type GPU is enabled.\n"
     ]
    },
    {
     "name": "stdout",
     "output_type": "stream",
     "text": [
      "20/20 [==============================] - 6s 173ms/step - loss: 0.6370 - mae: 0.4765 - val_loss: 0.0829 - val_mae: 0.2239\n",
      "Epoch 2/20\n",
      "20/20 [==============================] - 1s 64ms/step - loss: 0.1170 - mae: 0.1932 - val_loss: 0.0470 - val_mae: 0.1695\n",
      "Epoch 3/20\n",
      "20/20 [==============================] - 1s 63ms/step - loss: 0.1910 - mae: 0.1615 - val_loss: 0.0457 - val_mae: 0.1563\n",
      "Epoch 4/20\n",
      "20/20 [==============================] - 1s 67ms/step - loss: 0.1443 - mae: 0.1395 - val_loss: 0.0280 - val_mae: 0.1291\n",
      "Epoch 5/20\n",
      "20/20 [==============================] - 1s 67ms/step - loss: 0.0991 - mae: 0.1253 - val_loss: 0.0288 - val_mae: 0.1257\n",
      "Epoch 6/20\n",
      "20/20 [==============================] - 1s 64ms/step - loss: 0.1286 - mae: 0.1144 - val_loss: 0.0249 - val_mae: 0.1216\n",
      "Epoch 7/20\n",
      "20/20 [==============================] - 1s 64ms/step - loss: 0.0179 - mae: 0.0897 - val_loss: 0.0240 - val_mae: 0.1166\n",
      "Epoch 8/20\n",
      "20/20 [==============================] - 1s 64ms/step - loss: 0.0192 - mae: 0.0818 - val_loss: 0.0270 - val_mae: 0.1167\n",
      "Epoch 9/20\n",
      "20/20 [==============================] - 1s 64ms/step - loss: 0.0176 - mae: 0.0753 - val_loss: 0.0242 - val_mae: 0.1171\n",
      "Epoch 10/20\n",
      "20/20 [==============================] - 1s 64ms/step - loss: 0.0120 - mae: 0.0688 - val_loss: 0.0249 - val_mae: 0.1189\n",
      "Epoch 11/20\n",
      "20/20 [==============================] - 1s 63ms/step - loss: 0.0087 - mae: 0.0619 - val_loss: 0.0228 - val_mae: 0.1152\n",
      "Epoch 12/20\n",
      "20/20 [==============================] - 1s 63ms/step - loss: 0.0058 - mae: 0.0565 - val_loss: 0.0245 - val_mae: 0.1172\n",
      "Epoch 13/20\n",
      "20/20 [==============================] - 1s 64ms/step - loss: 0.0042 - mae: 0.0501 - val_loss: 0.0238 - val_mae: 0.1168\n",
      "Epoch 14/20\n",
      "20/20 [==============================] - 1s 65ms/step - loss: 0.0047 - mae: 0.0514 - val_loss: 0.0231 - val_mae: 0.1167\n",
      "Epoch 15/20\n",
      "20/20 [==============================] - 1s 65ms/step - loss: 0.0031 - mae: 0.0423 - val_loss: 0.0234 - val_mae: 0.1171\n",
      "Epoch 16/20\n",
      "20/20 [==============================] - 1s 64ms/step - loss: 0.0026 - mae: 0.0394 - val_loss: 0.0239 - val_mae: 0.1174\n",
      "Epoch 17/20\n",
      "20/20 [==============================] - 1s 64ms/step - loss: 0.0020 - mae: 0.0346 - val_loss: 0.0237 - val_mae: 0.1176\n",
      "Epoch 18/20\n",
      "20/20 [==============================] - 1s 64ms/step - loss: 0.0017 - mae: 0.0318 - val_loss: 0.0235 - val_mae: 0.1171\n",
      "Epoch 19/20\n",
      "20/20 [==============================] - 1s 63ms/step - loss: 0.0014 - mae: 0.0285 - val_loss: 0.0238 - val_mae: 0.1183\n",
      "Epoch 20/20\n",
      "20/20 [==============================] - 1s 65ms/step - loss: 0.0012 - mae: 0.0258 - val_loss: 0.0235 - val_mae: 0.1178\n"
     ]
    }
   ],
   "source": [
    "history = model.fit(X_train, y_train, epochs=20, batch_size=32, validation_data=(X_test, y_test))\n"
   ]
  },
  {
   "cell_type": "code",
   "execution_count": 13,
   "metadata": {},
   "outputs": [
    {
     "name": "stdout",
     "output_type": "stream",
     "text": [
      "5/5 [==============================] - 0s 27ms/step - loss: 0.0235 - mae: 0.1178\n",
      "Test Loss: 0.023481957614421844, Test MAE: 0.1178331971168518\n"
     ]
    }
   ],
   "source": [
    "# 评估模型性能\n",
    "loss, mae = model.evaluate(X_test, y_test)\n",
    "print(f'Test Loss: {loss}, Test MAE: {mae}')\n"
   ]
  },
  {
   "cell_type": "code",
   "execution_count": 14,
   "metadata": {},
   "outputs": [],
   "source": [
    "model.save('/Users/zhaokaiyang/Documents/24Spring/Deep Learning/Final Project/emotionPredict.h5')  # 保存为 SavedModel 格式"
   ]
  },
  {
   "cell_type": "code",
   "execution_count": 15,
   "metadata": {},
   "outputs": [],
   "source": [
    "from tensorflow.keras.models import load_model\n",
    "from tcn import TCN  # 确保正确导入 TCN 层的定义\n",
    "\n",
    "# 加载模型时指定自定义层\n",
    "model_test = load_model('/Users/zhaokaiyang/Documents/24Spring/Deep Learning/Final Project/emotionPredict.h5', custom_objects={'TCN': TCN})"
   ]
  },
  {
   "cell_type": "code",
   "execution_count": 16,
   "metadata": {},
   "outputs": [],
   "source": [
    "import librosa\n",
    "\n",
    "wave, sr = librosa.load(\"/Users/zhaokaiyang/Documents/24Spring/Deep Learning/Final Project/test.mp3\", sr=16000, mono=True)"
   ]
  },
  {
   "cell_type": "code",
   "execution_count": 18,
   "metadata": {},
   "outputs": [],
   "source": [
    "feature_test = u.extract_features(wave, yamnet)\n",
    "feature_test = np.expand_dims(feature_test, axis=0)"
   ]
  },
  {
   "cell_type": "code",
   "execution_count": 19,
   "metadata": {},
   "outputs": [
    {
     "data": {
      "text/plain": [
       "(1, 60, 1024)"
      ]
     },
     "execution_count": 19,
     "metadata": {},
     "output_type": "execute_result"
    }
   ],
   "source": [
    "feature_test.shape"
   ]
  },
  {
   "cell_type": "code",
   "execution_count": 20,
   "metadata": {},
   "outputs": [
    {
     "name": "stdout",
     "output_type": "stream",
     "text": [
      "WARNING:tensorflow:AutoGraph could not transform <function Model.make_predict_function.<locals>.predict_function at 0x167ede160> and will run it as-is.\n",
      "Please report this to the TensorFlow team. When filing the bug, set the verbosity to 10 (on Linux, `export AUTOGRAPH_VERBOSITY=10`) and attach the full output.\n",
      "Cause: module 'gast' has no attribute 'Constant'\n",
      "To silence this warning, decorate the function with @tf.autograph.experimental.do_not_convert\n",
      "WARNING: AutoGraph could not transform <function Model.make_predict_function.<locals>.predict_function at 0x167ede160> and will run it as-is.\n",
      "Please report this to the TensorFlow team. When filing the bug, set the verbosity to 10 (on Linux, `export AUTOGRAPH_VERBOSITY=10`) and attach the full output.\n",
      "Cause: module 'gast' has no attribute 'Constant'\n",
      "To silence this warning, decorate the function with @tf.autograph.experimental.do_not_convert\n"
     ]
    },
    {
     "name": "stderr",
     "output_type": "stream",
     "text": [
      "2024-04-27 14:23:52.173725: I tensorflow/core/grappler/optimizers/custom_graph_optimizer_registry.cc:114] Plugin optimizer for device_type GPU is enabled.\n"
     ]
    },
    {
     "name": "stdout",
     "output_type": "stream",
     "text": [
      "1/1 [==============================] - 1s 539ms/step\n"
     ]
    }
   ],
   "source": [
    "predicted_values = model_test.predict(feature_test)"
   ]
  },
  {
   "cell_type": "code",
   "execution_count": 21,
   "metadata": {},
   "outputs": [],
   "source": [
    "arousal_test, valence_test = predicted_values[0][0], predicted_values[0][1]"
   ]
  },
  {
   "cell_type": "code",
   "execution_count": 22,
   "metadata": {},
   "outputs": [
    {
     "name": "stdout",
     "output_type": "stream",
     "text": [
      "0.629775 0.36699024\n"
     ]
    }
   ],
   "source": [
    "print(arousal_test, valence_test)"
   ]
  }
 ],
 "metadata": {
  "kernelspec": {
   "display_name": "dl4m-hw3",
   "language": "python",
   "name": "python3"
  },
  "language_info": {
   "codemirror_mode": {
    "name": "ipython",
    "version": 3
   },
   "file_extension": ".py",
   "mimetype": "text/x-python",
   "name": "python",
   "nbconvert_exporter": "python",
   "pygments_lexer": "ipython3",
   "version": "3.9.19"
  },
  "orig_nbformat": 4
 },
 "nbformat": 4,
 "nbformat_minor": 2
}
