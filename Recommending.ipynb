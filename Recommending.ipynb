{
 "cells": [
  {
   "cell_type": "code",
   "execution_count": 1,
   "metadata": {},
   "outputs": [
    {
     "name": "stdout",
     "output_type": "stream",
     "text": [
      "[16158.0, 10440.0, 12351.0, 33477.0, 3266.0, 31391.0, 29180.0, 10674.0, 3274.0, 890.0]\n"
     ]
    }
   ],
   "source": [
    "import pandas as pd\n",
    "from gui import get_values\n",
    "\n",
    "df = pd.read_csv('predicted_emotions.csv')\n",
    "\n",
    "ui_arousal, ui_valence = get_values()\n",
    "\n",
    "# Example UI values for arousal and valence\n",
    "\n",
    "\n",
    "# Function to calculate Manhattan distance\n",
    "def calculate_manhattan_distance(x, y, valence, arousal):\n",
    "    return abs(x - valence) + abs(y - arousal)\n",
    "\n",
    "# Add a new column to the DataFrame for the Manhattan distance\n",
    "df['distance'] = df.apply(lambda row: calculate_manhattan_distance(row['Valence'], row['Arousal'], ui_valence, ui_arousal), axis=1)\n",
    "\n",
    "# Sort the DataFrame based on the 'distance' column and select the top 10 entries\n",
    "closest_songs = df.sort_values(by='distance').head(10)\n",
    "\n",
    "# closest matches\n",
    "closest_song_ids = closest_songs['Song_ID'].tolist()\n",
    "\n",
    "# Print  list \n",
    "print(closest_song_ids)"
   ]
  },
  {
   "cell_type": "code",
   "execution_count": 2,
   "metadata": {},
   "outputs": [
    {
     "name": "stdout",
     "output_type": "stream",
     "text": [
      "                              artist_name  \\\n",
      "track_id                                    \n",
      "890                           Ilyas Ahmed   \n",
      "3266                               Ai Aso   \n",
      "3274                              Arborea   \n",
      "10440                           Big Blood   \n",
      "10674                     Nine Inch Nails   \n",
      "12351                        Koonda Holaa   \n",
      "16158     Entertainment for the Braindead   \n",
      "29180                    Charlene Darling   \n",
      "31391                           Amy Sayer   \n",
      "33477                          Ran Slavin   \n",
      "\n",
      "                                                track_title  \n",
      "track_id                                                     \n",
      "890                                         Softly Tomorrow  \n",
      "3266                                                   Land  \n",
      "3274                                             Forewarned  \n",
      "10440                                      No Gravity Blues  \n",
      "10674                                     Lights in the Sky  \n",
      "12351                                                Gadget  \n",
      "16158                                               Animals  \n",
      "29180                                                mamido  \n",
      "31391                                             More Love  \n",
      "33477     Some nights when our dreams were scratched awa...  \n"
     ]
    }
   ],
   "source": [
    "# 读取CSV的前三行用于生成列名\n",
    "header_df = pd.read_csv('FMA_Metadata/tracks.csv', nrows=3, header=None)\n",
    "\n",
    "# 合成列名：合并三行数据，用下划线连接非空非\"nan\"值\n",
    "column_names = []\n",
    "for col in header_df:\n",
    "    # 过滤出非nan值，转换为字符串\n",
    "    parts = header_df[col].dropna().apply(lambda x: str(x) if str(x) != 'nan' else '').tolist()\n",
    "    # 移除空字符串\n",
    "    parts = [part for part in parts if part]\n",
    "    # 使用下划线连接\n",
    "    column_name = '_'.join(parts)\n",
    "    column_names.append(column_name)\n",
    "\n",
    "# # 打印合成的列名检查是否正确\n",
    "# print(column_names)\n",
    "\n",
    "# 根据需要调整skiprows的值：根据CSV文件的实际内容调整，这里假设数据从第四行开始\n",
    "df = pd.read_csv('FMA_Metadata/tracks.csv', skiprows=3, header=None, names=column_names)\n",
    "\n",
    "# 假设第一列是 'track_id'，设置为索引\n",
    "df.set_index('track_id', inplace=True)\n",
    "\n",
    "# 歌曲ID列表\n",
    "song_ids = closest_song_ids\n",
    "\n",
    "# 过滤出对应歌曲ID的行\n",
    "filtered_df = df[df.index.isin(song_ids)]\n",
    "\n",
    "# 提取歌曲名、歌手名等相关信息\n",
    "# 假设 'track_title' 列代表歌曲名，'artist_name' 列代表歌手名\n",
    "songs_info = filtered_df[['artist_name', 'track_title']]\n",
    "\n",
    "# 显示结果\n",
    "print(songs_info)\n"
   ]
  },
  {
   "cell_type": "code",
   "execution_count": 3,
   "metadata": {},
   "outputs": [
    {
     "name": "stdout",
     "output_type": "stream",
     "text": [
      "pygame 2.5.2 (SDL 2.28.3, Python 3.9.19)\n",
      "Hello from the pygame community. https://www.pygame.org/contribute.html\n"
     ]
    },
    {
     "data": {
      "application/vnd.jupyter.widget-view+json": {
       "model_id": "11a5a2d56fc74d1b9d459736c8111dcb",
       "version_major": 2,
       "version_minor": 0
      },
      "text/plain": [
       "VBox(children=(VBox(children=(HBox(children=(Button(description='Play: 012351', style=ButtonStyle()), Button(d…"
      ]
     },
     "execution_count": 3,
     "metadata": {},
     "output_type": "execute_result"
    }
   ],
   "source": [
    "import os\n",
    "import pygame\n",
    "from ipywidgets import Button, Output, HBox, VBox\n",
    "\n",
    "def play_audio(file_path):\n",
    "    # 加载音频文件\n",
    "    pygame.mixer.music.load(file_path)\n",
    "    \n",
    "    # 播放音频文件\n",
    "    pygame.mixer.music.play()\n",
    "\n",
    "def pause_audio():\n",
    "    # 暂停音频播放\n",
    "    pygame.mixer.music.pause()\n",
    "\n",
    "def unpause_audio():\n",
    "    # 恢复音频播放\n",
    "    pygame.mixer.music.unpause()\n",
    "\n",
    "def find_audio_files(base_path, file_ids):\n",
    "    audio_files = []\n",
    "    \n",
    "    # 遍历 base_path 下的所有子目录\n",
    "    for root, dirs, files in os.walk(base_path):\n",
    "        # 检查每个文件是否在 file_ids 中\n",
    "        for file in files:\n",
    "            # 假设文件名格式为 '23862.mp3'，提取前面的数字部分\n",
    "            file_id = os.path.splitext(file)[0]\n",
    "            try:\n",
    "                # 将文件名转换为浮点数，并检查是否在列表中\n",
    "                if float(file_id) in file_ids:\n",
    "                    file_path = os.path.join(root, file)\n",
    "                    audio_files.append(file_path)\n",
    "            except ValueError:\n",
    "                # 如果转换失败，忽略该文件\n",
    "                continue\n",
    "    \n",
    "    return audio_files\n",
    "\n",
    "def create_audio_controls(track_id, file_path):\n",
    "    play_button = Button(description=f\"Play: {track_id}\")\n",
    "    pause_button = Button(description=\"Stop\")\n",
    "    output = Output()\n",
    "    \n",
    "    def on_play_button_clicked(b):\n",
    "        with output:\n",
    "            print(f\"Playing: {track_id}\")\n",
    "            play_audio(file_path)\n",
    "    \n",
    "    def on_pause_button_clicked(b):\n",
    "        if pygame.mixer.music.get_busy():\n",
    "            if pygame.mixer.music.get_pos() > 0:\n",
    "                with output:\n",
    "                    print(\"Pausing audio\")\n",
    "                pause_audio()\n",
    "            else:\n",
    "                with output:\n",
    "                    print(\"Resuming audio\")\n",
    "                unpause_audio()\n",
    "    \n",
    "    play_button.on_click(on_play_button_clicked)\n",
    "    pause_button.on_click(on_pause_button_clicked)\n",
    "    \n",
    "    return VBox([HBox([play_button, pause_button]), output])\n",
    "\n",
    "\n",
    "# 初始化 Pygame 混音器\n",
    "pygame.mixer.init()\n",
    "\n",
    "# 指定音频文件所在的根目录\n",
    "base_path = 'FMA_Excerpt'\n",
    "\n",
    "# 指定要播放的文件ID列表\n",
    "file_ids = closest_song_ids\n",
    "\n",
    "# 查找符合条件的音频文件\n",
    "audio_files = find_audio_files(base_path, file_ids)\n",
    "\n",
    "# 为每个音频文件创建播放和暂停按钮\n",
    "audio_controls = [create_audio_controls(os.path.splitext(os.path.basename(file_path))[0], file_path) for file_path in audio_files]\n",
    "\n",
    "# 显示所有音频控件\n",
    "VBox(audio_controls)"
   ]
  }
 ],
 "metadata": {
  "kernelspec": {
   "display_name": "dl4m-hw3",
   "language": "python",
   "name": "python3"
  },
  "language_info": {
   "codemirror_mode": {
    "name": "ipython",
    "version": 3
   },
   "file_extension": ".py",
   "mimetype": "text/x-python",
   "name": "python",
   "nbconvert_exporter": "python",
   "pygments_lexer": "ipython3",
   "version": "3.9.19"
  },
  "orig_nbformat": 4
 },
 "nbformat": 4,
 "nbformat_minor": 2
}
