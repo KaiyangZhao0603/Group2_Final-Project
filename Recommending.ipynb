{
 "cells": [
  {
   "cell_type": "code",
   "execution_count": 1,
   "metadata": {},
   "outputs": [
    {
     "name": "stdout",
     "output_type": "stream",
     "text": [
      "[23862.0, 25669.0, 7491.0, 13707.0, 21228.0, 30522.0, 6358.0, 709.0, 6368.0, 32438.0]\n"
     ]
    }
   ],
   "source": [
    "import pandas as pd\n",
    "from gui import get_values\n",
    "\n",
    "df = pd.read_csv('predicted_emotions.csv')\n",
    "\n",
    "ui_arousal, ui_valence = get_values()\n",
    "\n",
    "# Example UI values for arousal and valence\n",
    "\n",
    "\n",
    "# Function to calculate Manhattan distance\n",
    "def calculate_manhattan_distance(x, y, valence, arousal):\n",
    "    return abs(x - valence) + abs(y - arousal)\n",
    "\n",
    "# Add a new column to the DataFrame for the Manhattan distance\n",
    "df['distance'] = df.apply(lambda row: calculate_manhattan_distance(row['Valence'], row['Arousal'], ui_valence, ui_arousal), axis=1)\n",
    "\n",
    "# Sort the DataFrame based on the 'distance' column and select the top 10 entries\n",
    "closest_songs = df.sort_values(by='distance').head(10)\n",
    "\n",
    "# closest matches\n",
    "closest_song_ids = closest_songs['Song_ID'].tolist()\n",
    "\n",
    "# Print  list \n",
    "print(closest_song_ids)"
   ]
  },
  {
   "cell_type": "code",
   "execution_count": 2,
   "metadata": {},
   "outputs": [
    {
     "name": "stdout",
     "output_type": "stream",
     "text": [
      "                  artist_name                        track_title\n",
      "track_id                                                        \n",
      "709                   Fósforo                    Cumbia De Obama\n",
      "6358        Kavala Brass Band                            track 2\n",
      "6368        Kavala Brass Band                            track 3\n",
      "7491                  BrokeMC                       broke Pimpin\n",
      "13707                  Goto80                      For Newspress\n",
      "21228                Lasswell                       Dig Deep Mix\n",
      "23862                  Goto80                      Datahell Beta\n",
      "25669                Volfoniq  Love not monnaie (feat. Tribuman)\n",
      "30522                 Trash80                       At Teh Disko\n",
      "32438     You Kill My Brother                        Go! Go! Go!\n"
     ]
    }
   ],
   "source": [
    "# 读取CSV的前三行用于生成列名\n",
    "header_df = pd.read_csv('FMA_Metadata/tracks.csv', nrows=3, header=None)\n",
    "\n",
    "# 合成列名：合并三行数据，用下划线连接非空非\"nan\"值\n",
    "column_names = []\n",
    "for col in header_df:\n",
    "    # 过滤出非nan值，转换为字符串\n",
    "    parts = header_df[col].dropna().apply(lambda x: str(x) if str(x) != 'nan' else '').tolist()\n",
    "    # 移除空字符串\n",
    "    parts = [part for part in parts if part]\n",
    "    # 使用下划线连接\n",
    "    column_name = '_'.join(parts)\n",
    "    column_names.append(column_name)\n",
    "\n",
    "# # 打印合成的列名检查是否正确\n",
    "# print(column_names)\n",
    "\n",
    "# 根据需要调整skiprows的值：根据CSV文件的实际内容调整，这里假设数据从第四行开始\n",
    "df = pd.read_csv('FMA_Metadata/tracks.csv', skiprows=3, header=None, names=column_names)\n",
    "\n",
    "# 假设第一列是 'track_id'，设置为索引\n",
    "df.set_index('track_id', inplace=True)\n",
    "\n",
    "# 歌曲ID列表\n",
    "song_ids = closest_song_ids\n",
    "\n",
    "# 过滤出对应歌曲ID的行\n",
    "filtered_df = df[df.index.isin(song_ids)]\n",
    "\n",
    "# 提取歌曲名、歌手名等相关信息\n",
    "# 假设 'track_title' 列代表歌曲名，'artist_name' 列代表歌手名\n",
    "songs_info = filtered_df[['artist_name', 'track_title']]\n",
    "\n",
    "# 显示结果\n",
    "print(songs_info)\n"
   ]
  }
 ],
 "metadata": {
  "kernelspec": {
   "display_name": "dl4m-hw3",
   "language": "python",
   "name": "python3"
  },
  "language_info": {
   "codemirror_mode": {
    "name": "ipython",
    "version": 3
   },
   "file_extension": ".py",
   "mimetype": "text/x-python",
   "name": "python",
   "nbconvert_exporter": "python",
   "pygments_lexer": "ipython3",
   "version": "3.9.19"
  },
  "orig_nbformat": 4
 },
 "nbformat": 4,
 "nbformat_minor": 2
}
