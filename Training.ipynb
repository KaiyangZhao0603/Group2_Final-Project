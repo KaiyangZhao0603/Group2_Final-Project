{
 "cells": [
  {
   "cell_type": "code",
   "execution_count": 1,
   "metadata": {},
   "outputs": [],
   "source": [
    "# import kagglehub\n",
    "\n",
    "# # Download latest version\n",
    "# path = kagglehub.model_download(\"google/yamnet/tensorFlow2/yamnet\")\n",
    "\n",
    "# print(\"Path to model files:\", path)"
   ]
  },
  {
   "cell_type": "code",
   "execution_count": 2,
   "metadata": {},
   "outputs": [
    {
     "name": "stderr",
     "output_type": "stream",
     "text": [
      "2024-04-30 11:30:08.107099: I tensorflow/core/platform/cpu_feature_guard.cc:193] This TensorFlow binary is optimized with oneAPI Deep Neural Network Library (oneDNN) to use the following CPU instructions in performance-critical operations:  AVX2 FMA\n",
      "To enable them in other operations, rebuild TensorFlow with the appropriate compiler flags.\n",
      "2024-04-30 11:30:13.821870: I tensorflow/core/platform/cpu_feature_guard.cc:193] This TensorFlow binary is optimized with oneAPI Deep Neural Network Library (oneDNN) to use the following CPU instructions in performance-critical operations:  AVX2 FMA\n",
      "To enable them in other operations, rebuild TensorFlow with the appropriate compiler flags.\n"
     ]
    }
   ],
   "source": [
    "import utils as u\n",
    "import tensorflow_hub as hub\n",
    "\n",
    "yamnet = hub.load('https://tfhub.dev/google/yamnet/1')"
   ]
  },
  {
   "cell_type": "code",
   "execution_count": 3,
   "metadata": {},
   "outputs": [],
   "source": [
    "# 指定你的音频文件夹路径\n",
    "folder_path = 'DEAM_Dataset/MEMD_audio/'\n",
    "# 处理文件夹并获取 embeddings\n",
    "embeddings_dict = u.process_folder(folder_path, yamnet)"
   ]
  },
  {
   "cell_type": "code",
   "execution_count": 27,
   "metadata": {},
   "outputs": [
    {
     "name": "stdout",
     "output_type": "stream",
     "text": [
      "5406\n"
     ]
    }
   ],
   "source": [
    "# 打印所有键\n",
    "# print(list(embeddings_dict.keys()))\n",
    "print(len(list(embeddings_dict.keys())))"
   ]
  },
  {
   "cell_type": "code",
   "execution_count": 21,
   "metadata": {},
   "outputs": [],
   "source": [
    "# 创建一个新字典，其键是转换后的格式\n",
    "new_embeddings_dict = {}\n",
    "for key in embeddings_dict.keys():\n",
    "    if key[-3:] == 'aug':\n",
    "        if key[-4] == '0':\n",
    "            new_key = key[:-8] + \".1\"   # for augmentation data, add \".1\"\n",
    "        if key[-4] == '3':\n",
    "            new_key = key[:-8] + \".2\"\n",
    "    else:\n",
    "        new_key = key[:-4] + \".0\"  # 移除 '.mp3' 并添加 '.0'\n",
    "        \n",
    "    new_embeddings_dict[new_key] = embeddings_dict[key]\n",
    "\n",
    "\n"
   ]
  },
  {
   "cell_type": "code",
   "execution_count": 28,
   "metadata": {},
   "outputs": [
    {
     "name": "stdout",
     "output_type": "stream",
     "text": [
      "5406\n"
     ]
    }
   ],
   "source": [
    "# 打印所有键\n",
    "print(len(list(new_embeddings_dict.keys())))"
   ]
  },
  {
   "cell_type": "code",
   "execution_count": 23,
   "metadata": {},
   "outputs": [
    {
     "name": "stdout",
     "output_type": "stream",
     "text": [
      "   song_id   valence_mean   valence_std   arousal_mean   arousal_std\n",
      "0        2            3.1          0.94            3.0          0.63\n",
      "1        3            3.5          1.75            3.3          1.62\n",
      "2        4            5.7          1.42            5.5          1.63\n",
      "3        5            4.4          2.01            5.3          1.85\n",
      "4        7            5.8          1.47            6.4          1.69\n"
     ]
    }
   ],
   "source": [
    "import pandas as pd\n",
    "import numpy as np\n",
    "from sklearn.model_selection import train_test_split\n",
    "\n",
    "# 加载 Arousal & Valence 数据\n",
    "av_data = pd.read_csv('DEAM_Dataset/annotations/static_annotations_averaged_songs_1_2000.csv')  # 确保路径正确\n",
    "print(av_data.head())"
   ]
  },
  {
   "cell_type": "code",
   "execution_count": 30,
   "metadata": {},
   "outputs": [
    {
     "name": "stdout",
     "output_type": "stream",
     "text": [
      "Total samples loaded: 5406\n",
      "Training set size: 4324, Test set size: 1082\n"
     ]
    }
   ],
   "source": [
    "import pandas as pd\n",
    "import numpy as np\n",
    "from sklearn.model_selection import train_test_split\n",
    "\n",
    "# 加载 Arousal & Valence 数据\n",
    "av_data1 = pd.read_csv('DEAM_Dataset/annotations/static_annotations_averaged_songs_1_2000.csv')  # 确保路径正确\n",
    "av_data2 = pd.read_csv('DEAM_Dataset/annotations/static_annotations_averaged_songs_2000_2058.csv')\n",
    "av_data = pd.concat([av_data1, av_data2], ignore_index=True)\n",
    "av_data.columns = av_data.columns.str.strip()  # 清理列名\n",
    "\n",
    "# 初始化数据列表\n",
    "X = []\n",
    "y = []\n",
    "\n",
    "# 遍历数据行\n",
    "for index, row in av_data.iterrows():\n",
    "    music_id = str(row['song_id'])  # 根据需要将 musicId 转换为字符串，假设 embeddings_dict 的键是字符串形式的 musicId\n",
    "    if music_id in new_embeddings_dict:\n",
    "        X.append(new_embeddings_dict[music_id])\n",
    "        X.append(new_embeddings_dict[music_id[:-1] + \"1\"])\n",
    "        X.append(new_embeddings_dict[music_id[:-1] + \"2\"])\n",
    "        y.append([row['valence_mean'], row['arousal_mean']])\n",
    "        y.append([row['valence_mean'], row['arousal_mean']])\n",
    "        y.append([row['valence_mean'], row['arousal_mean']])\n",
    "    else:\n",
    "        print(f\"Music ID {music_id} not found in embeddings_dict\")  # 输出未找到的音乐 ID\n",
    "\n",
    "# 将列表转换为 NumPy 数组\n",
    "X = np.array(X)\n",
    "y = np.array(y)\n",
    "\n",
    "print(f\"Total samples loaded: {len(X)}\")  # 输出加载的样本总数\n",
    "\n",
    "if len(X) > 0:\n",
    "    # 划分数据集\n",
    "    X_train, X_test, y_train, y_test = train_test_split(X, y, test_size=0.2, random_state=42)\n",
    "    print(f\"Training set size: {len(X_train)}, Test set size: {len(X_test)}\")\n",
    "else:\n",
    "    print(\"No data to split. Check your dataset and embeddings.\")\n"
   ]
  },
  {
   "cell_type": "code",
   "execution_count": 35,
   "metadata": {},
   "outputs": [],
   "source": [
    "from models import build_model\n",
    "\n",
    "\n",
    "from tensorflow.keras.models import Sequential\n",
    "from tcn import TCN, tcn_full_summary\n",
    "from tensorflow.keras.layers import Dense, BatchNormalization\n",
    "from tensorflow.keras.optimizers import Adam\n",
    "from tensorflow.keras.regularizers import l2\n",
    "\n",
    "\n",
    "def build_model(input_shape):\n",
    "    model = Sequential([\n",
    "        TCN(input_shape=input_shape, nb_filters=64, kernel_size=6, nb_stacks=1,\n",
    "            dilations=[1, 2, 4, 8, 16], padding='causal', use_skip_connections=True,\n",
    "            dropout_rate=0.2, return_sequences=False, activation='relu', kernel_initializer='he_normal'),\n",
    "        Dense(2, activation='linear', kernel_regularizer=l2(0.01))\n",
    "    ])\n",
    "    BatchNormalization(),\n",
    "    optimizer = Adam(learning_rate=0.005)\n",
    "    model.compile(optimizer=optimizer, loss='mean_squared_error', metrics=['mae'])\n",
    "    return model\n",
    "# 根据输入数据的形状创建模型\n",
    "model = build_model(input_shape=(60, 1024))  # 确保这与你的 embeddings 形状匹配\n",
    "\n"
   ]
  },
  {
   "cell_type": "code",
   "execution_count": 36,
   "metadata": {},
   "outputs": [
    {
     "name": "stdout",
     "output_type": "stream",
     "text": [
      "Epoch 1/20\n",
      "136/136 [==============================] - 12s 78ms/step - loss: 16.9981 - mae: 1.6015 - val_loss: 1.0268 - val_mae: 0.7942\n",
      "Epoch 2/20\n",
      "136/136 [==============================] - 10s 74ms/step - loss: 1.0972 - mae: 0.8193 - val_loss: 1.0874 - val_mae: 0.8238\n",
      "Epoch 3/20\n",
      "136/136 [==============================] - 11s 82ms/step - loss: 0.9987 - mae: 0.7787 - val_loss: 0.8477 - val_mae: 0.7263\n",
      "Epoch 4/20\n",
      "136/136 [==============================] - 11s 81ms/step - loss: 0.9477 - mae: 0.7625 - val_loss: 0.8959 - val_mae: 0.7361\n",
      "Epoch 5/20\n",
      "136/136 [==============================] - 12s 87ms/step - loss: 0.9347 - mae: 0.7579 - val_loss: 0.7718 - val_mae: 0.6883\n",
      "Epoch 6/20\n",
      "136/136 [==============================] - 13s 96ms/step - loss: 0.8518 - mae: 0.7221 - val_loss: 0.8630 - val_mae: 0.7183\n",
      "Epoch 7/20\n",
      "136/136 [==============================] - 13s 96ms/step - loss: 0.8263 - mae: 0.7099 - val_loss: 0.8852 - val_mae: 0.7297\n",
      "Epoch 8/20\n",
      "136/136 [==============================] - 12s 89ms/step - loss: 0.8142 - mae: 0.7042 - val_loss: 0.7736 - val_mae: 0.6830\n",
      "Epoch 9/20\n",
      "136/136 [==============================] - 12s 88ms/step - loss: 0.7731 - mae: 0.6851 - val_loss: 0.7666 - val_mae: 0.6818\n",
      "Epoch 10/20\n",
      "136/136 [==============================] - 13s 97ms/step - loss: 0.7598 - mae: 0.6746 - val_loss: 0.8341 - val_mae: 0.7131\n",
      "Epoch 11/20\n",
      "136/136 [==============================] - 13s 93ms/step - loss: 0.7510 - mae: 0.6747 - val_loss: 0.7778 - val_mae: 0.6898\n",
      "Epoch 12/20\n",
      "136/136 [==============================] - 13s 92ms/step - loss: 0.7157 - mae: 0.6583 - val_loss: 0.7825 - val_mae: 0.6854\n",
      "Epoch 13/20\n",
      "136/136 [==============================] - 11s 83ms/step - loss: 0.6868 - mae: 0.6436 - val_loss: 0.8260 - val_mae: 0.7027\n",
      "Epoch 14/20\n",
      "136/136 [==============================] - 12s 91ms/step - loss: 1.8080 - mae: 0.8968 - val_loss: 0.8396 - val_mae: 0.7138\n",
      "Epoch 15/20\n",
      "136/136 [==============================] - 12s 87ms/step - loss: 0.8947 - mae: 0.7410 - val_loss: 0.7557 - val_mae: 0.6803\n",
      "Epoch 16/20\n",
      "136/136 [==============================] - 12s 87ms/step - loss: 0.8511 - mae: 0.7256 - val_loss: 1.1478 - val_mae: 0.8499\n",
      "Epoch 17/20\n",
      "136/136 [==============================] - 12s 89ms/step - loss: 0.8103 - mae: 0.7020 - val_loss: 1.0850 - val_mae: 0.8263\n",
      "Epoch 18/20\n",
      "136/136 [==============================] - 12s 85ms/step - loss: 0.7929 - mae: 0.6990 - val_loss: 0.7995 - val_mae: 0.6945\n",
      "Epoch 19/20\n",
      "136/136 [==============================] - 12s 89ms/step - loss: 0.7776 - mae: 0.6943 - val_loss: 0.7424 - val_mae: 0.6692\n",
      "Epoch 20/20\n",
      "136/136 [==============================] - 12s 87ms/step - loss: 0.7890 - mae: 0.6972 - val_loss: 0.9222 - val_mae: 0.7563\n"
     ]
    }
   ],
   "source": [
    "history = model.fit(X_train, y_train, epochs=20, batch_size=32, validation_data=(X_test, y_test))\n"
   ]
  },
  {
   "cell_type": "code",
   "execution_count": 11,
   "metadata": {},
   "outputs": [],
   "source": [
    "import matplotlib.pyplot as plt\n",
    "\n",
    "def plot_loss(history):\n",
    "    \"\"\"\n",
    "    Plot the training and validation loss and mae.\n",
    "\n",
    "    Parameters\n",
    "    ----------\n",
    "    history : keras.callbacks.History\n",
    "        The history object returned by the `fit` method of a Keras model.\n",
    "\n",
    "    Returns\n",
    "    -------\n",
    "    None\n",
    "    \"\"\"\n",
    "    mae = history.history[\"mae\"]\n",
    "    val_mae = history.history[\"val_mae\"]\n",
    "    loss = history.history[\"loss\"]\n",
    "    val_loss = history.history[\"val_loss\"]\n",
    "    epochs = range(1, len(mae) + 1)\n",
    "    plt.plot(epochs, mae, \"bo\", label=\"Training mae\")\n",
    "    plt.plot(epochs, val_mae, \"b\", label=\"Validation mae\")\n",
    "    plt.title(\"Training and validation mae\")\n",
    "    plt.legend()\n",
    "    plt.figure()\n",
    "    plt.plot(epochs, loss, \"bo\", label=\"Training loss\")\n",
    "    plt.plot(epochs, val_loss, \"b\", label=\"Validation loss\")\n",
    "    plt.title(\"Training and validation loss\")\n",
    "    plt.legend()\n",
    "    plt.show()"
   ]
  },
  {
   "cell_type": "code",
   "execution_count": 37,
   "metadata": {},
   "outputs": [
    {
     "data": {
      "image/png": "[encoded data removed]",
      "text/plain": [
       "<Figure size 640x480 with 1 Axes>"
      ]
     },
     "metadata": {},
     "output_type": "display_data"
    },
    {
     "data": {
      "image/png": "[encoded data removed]",
      "text/plain": [
       "<Figure size 640x480 with 1 Axes>"
      ]
     },
     "metadata": {},
     "output_type": "display_data"
    }
   ],
   "source": [
    "plot_loss(history)"
   ]
  },
  {
   "cell_type": "code",
   "execution_count": 38,
   "metadata": {},
   "outputs": [
    {
     "name": "stdout",
     "output_type": "stream",
     "text": [
      "34/34 [==============================] - 1s 17ms/step - loss: 0.9222 - mae: 0.7563\n",
      "Test Loss: 0.922179639339447, Test MAE: 0.7563273906707764\n"
     ]
    }
   ],
   "source": [
    "# 评估模型性能\n",
    "loss, mae = model.evaluate(X_test, y_test)\n",
    "print(f'Test Loss: {loss}, Test MAE: {mae}')\n"
   ]
  },
  {
   "cell_type": "code",
   "execution_count": 39,
   "metadata": {},
   "outputs": [],
   "source": [
    "model.save('/Users/apple/Downloads/Group2_Final-Project-main/emotionPredict2.h5')  # 保存为 SavedModel 格式"
   ]
  }
 ],
 "metadata": {
  "kernelspec": {
   "display_name": "dl4m-hw3",
   "language": "python",
   "name": "python3"
  },
  "language_info": {
   "codemirror_mode": {
    "name": "ipython",
    "version": 3
   },
   "file_extension": ".py",
   "mimetype": "text/x-python",
   "name": "python",
   "nbconvert_exporter": "python",
   "pygments_lexer": "ipython3",
   "version": "3.9.19"
  },
  "orig_nbformat": 4
 },
 "nbformat": 4,
 "nbformat_minor": 2
}
